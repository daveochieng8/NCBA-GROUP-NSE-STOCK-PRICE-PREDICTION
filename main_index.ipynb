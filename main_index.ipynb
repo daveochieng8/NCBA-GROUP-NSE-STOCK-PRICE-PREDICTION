{
 "cells": [
  {
   "cell_type": "markdown",
   "id": "9538d13e",
   "metadata": {},
   "source": [
    "## NCBA-GROUP-NSE-STOCK-PRICE-PREDICTION\n"
   ]
  },
  {
   "cell_type": "markdown",
   "id": "b51db579",
   "metadata": {},
   "source": []
  }
 ],
 "metadata": {
  "kernelspec": {
   "display_name": "base",
   "language": "python",
   "name": "python3"
  },
  "language_info": {
   "name": "python",
   "version": "3.11.7"
  }
 },
 "nbformat": 4,
 "nbformat_minor": 5
}
